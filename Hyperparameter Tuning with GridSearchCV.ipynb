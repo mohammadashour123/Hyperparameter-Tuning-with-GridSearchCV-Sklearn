{
 "cells": [
  {
   "cell_type": "markdown",
   "id": "3443930c",
   "metadata": {},
   "source": [
    "# Hyperparameter Tuning with GridSearchCV\n"
   ]
  },
  {
   "cell_type": "markdown",
   "id": "5d0c46e1",
   "metadata": {},
   "source": [
    " In almost any Machine Learning project, we train different models on the dataset and select the one with the best performance. However, there is room for improvement as we cannot say for sure that this particular model is best for the problem at hand. Hence, our aim is to improve the model in any way possible. One important factor in the performances of these models are their hyperparameters, once we set appropriate values for these hyperparameters, the performance of a model can improve significantly. In this Notebook, we will find out how we can find optimal values for the hyperparameters of a model by using GridSearchCV."
   ]
  },
  {
   "cell_type": "markdown",
   "id": "6f56d91c",
   "metadata": {},
   "source": [
    "# What is GridSearchCV?\n",
    "First, let us understand what is grid search? It is the process of performing hyperparameter tuning in order to determine the optimal values for a given model. As mentioned above, the performance of a model significantly depends on the value of hyperparameters. Note that there is no way to know in advance the best values for hyperparameters so ideally, we need to try all possible values to know the optimal values. Doing this manually could take a considerable amount of time and resources and thus we use GridSearchCV to automate the tuning of hyperparameters.\n",
    "\n",
    "GridSearchCV is a function that comes in Scikit-learn’s(or SK-learn) model_selection package.So an important point here to note is that we need to have Scikit-learn library installed on the computer. This function helps to loop through predefined hyperparameters and fit your estimator (model) on your training set. So, in the end, we can select the best parameters from the listed hyperparameter"
   ]
  },
  {
   "cell_type": "code",
   "execution_count": 2,
   "id": "785cfbc5",
   "metadata": {},
   "outputs": [],
   "source": [
    "# Importing the libraries\n",
    "import numpy as np\n",
    "import matplotlib.pyplot as plt\n",
    "import pandas as pd\n",
    "\n",
    "# Importing the dataset\n",
    "dataset = pd.read_csv('Advertising_data.csv')"
   ]
  },
  {
   "cell_type": "code",
   "execution_count": 3,
   "id": "455d0a2a",
   "metadata": {},
   "outputs": [
    {
     "data": {
      "text/html": [
       "<div>\n",
       "<style scoped>\n",
       "    .dataframe tbody tr th:only-of-type {\n",
       "        vertical-align: middle;\n",
       "    }\n",
       "\n",
       "    .dataframe tbody tr th {\n",
       "        vertical-align: top;\n",
       "    }\n",
       "\n",
       "    .dataframe thead th {\n",
       "        text-align: right;\n",
       "    }\n",
       "</style>\n",
       "<table border=\"1\" class=\"dataframe\">\n",
       "  <thead>\n",
       "    <tr style=\"text-align: right;\">\n",
       "      <th></th>\n",
       "      <th>User ID</th>\n",
       "      <th>Gender</th>\n",
       "      <th>Age</th>\n",
       "      <th>EstimatedSalary</th>\n",
       "      <th>Purchased</th>\n",
       "    </tr>\n",
       "  </thead>\n",
       "  <tbody>\n",
       "    <tr>\n",
       "      <th>0</th>\n",
       "      <td>15624510</td>\n",
       "      <td>Male</td>\n",
       "      <td>19.0</td>\n",
       "      <td>19000.0</td>\n",
       "      <td>0</td>\n",
       "    </tr>\n",
       "    <tr>\n",
       "      <th>1</th>\n",
       "      <td>15810944</td>\n",
       "      <td>Male</td>\n",
       "      <td>35.0</td>\n",
       "      <td>20000.0</td>\n",
       "      <td>0</td>\n",
       "    </tr>\n",
       "    <tr>\n",
       "      <th>2</th>\n",
       "      <td>15668575</td>\n",
       "      <td>Female</td>\n",
       "      <td>26.0</td>\n",
       "      <td>43000.0</td>\n",
       "      <td>0</td>\n",
       "    </tr>\n",
       "    <tr>\n",
       "      <th>3</th>\n",
       "      <td>15603246</td>\n",
       "      <td>Female</td>\n",
       "      <td>27.0</td>\n",
       "      <td>57000.0</td>\n",
       "      <td>0</td>\n",
       "    </tr>\n",
       "    <tr>\n",
       "      <th>4</th>\n",
       "      <td>15804002</td>\n",
       "      <td>Male</td>\n",
       "      <td>19.0</td>\n",
       "      <td>76000.0</td>\n",
       "      <td>0</td>\n",
       "    </tr>\n",
       "  </tbody>\n",
       "</table>\n",
       "</div>"
      ],
      "text/plain": [
       "    User ID  Gender   Age  EstimatedSalary  Purchased\n",
       "0  15624510    Male  19.0          19000.0          0\n",
       "1  15810944    Male  35.0          20000.0          0\n",
       "2  15668575  Female  26.0          43000.0          0\n",
       "3  15603246  Female  27.0          57000.0          0\n",
       "4  15804002    Male  19.0          76000.0          0"
      ]
     },
     "execution_count": 3,
     "metadata": {},
     "output_type": "execute_result"
    }
   ],
   "source": [
    "dataset.head()"
   ]
  },
  {
   "cell_type": "code",
   "execution_count": 4,
   "id": "baf60fd9",
   "metadata": {},
   "outputs": [],
   "source": [
    "dataset = pd.get_dummies(dataset)"
   ]
  },
  {
   "cell_type": "code",
   "execution_count": 5,
   "id": "07698bcf",
   "metadata": {},
   "outputs": [
    {
     "data": {
      "text/html": [
       "<div>\n",
       "<style scoped>\n",
       "    .dataframe tbody tr th:only-of-type {\n",
       "        vertical-align: middle;\n",
       "    }\n",
       "\n",
       "    .dataframe tbody tr th {\n",
       "        vertical-align: top;\n",
       "    }\n",
       "\n",
       "    .dataframe thead th {\n",
       "        text-align: right;\n",
       "    }\n",
       "</style>\n",
       "<table border=\"1\" class=\"dataframe\">\n",
       "  <thead>\n",
       "    <tr style=\"text-align: right;\">\n",
       "      <th></th>\n",
       "      <th>User ID</th>\n",
       "      <th>Age</th>\n",
       "      <th>EstimatedSalary</th>\n",
       "      <th>Purchased</th>\n",
       "      <th>Gender_Female</th>\n",
       "      <th>Gender_Male</th>\n",
       "    </tr>\n",
       "  </thead>\n",
       "  <tbody>\n",
       "    <tr>\n",
       "      <th>0</th>\n",
       "      <td>15624510</td>\n",
       "      <td>19.0</td>\n",
       "      <td>19000.0</td>\n",
       "      <td>0</td>\n",
       "      <td>0</td>\n",
       "      <td>1</td>\n",
       "    </tr>\n",
       "    <tr>\n",
       "      <th>1</th>\n",
       "      <td>15810944</td>\n",
       "      <td>35.0</td>\n",
       "      <td>20000.0</td>\n",
       "      <td>0</td>\n",
       "      <td>0</td>\n",
       "      <td>1</td>\n",
       "    </tr>\n",
       "    <tr>\n",
       "      <th>2</th>\n",
       "      <td>15668575</td>\n",
       "      <td>26.0</td>\n",
       "      <td>43000.0</td>\n",
       "      <td>0</td>\n",
       "      <td>1</td>\n",
       "      <td>0</td>\n",
       "    </tr>\n",
       "    <tr>\n",
       "      <th>3</th>\n",
       "      <td>15603246</td>\n",
       "      <td>27.0</td>\n",
       "      <td>57000.0</td>\n",
       "      <td>0</td>\n",
       "      <td>1</td>\n",
       "      <td>0</td>\n",
       "    </tr>\n",
       "    <tr>\n",
       "      <th>4</th>\n",
       "      <td>15804002</td>\n",
       "      <td>19.0</td>\n",
       "      <td>76000.0</td>\n",
       "      <td>0</td>\n",
       "      <td>0</td>\n",
       "      <td>1</td>\n",
       "    </tr>\n",
       "  </tbody>\n",
       "</table>\n",
       "</div>"
      ],
      "text/plain": [
       "    User ID   Age  EstimatedSalary  Purchased  Gender_Female  Gender_Male\n",
       "0  15624510  19.0          19000.0          0              0            1\n",
       "1  15810944  35.0          20000.0          0              0            1\n",
       "2  15668575  26.0          43000.0          0              1            0\n",
       "3  15603246  27.0          57000.0          0              1            0\n",
       "4  15804002  19.0          76000.0          0              0            1"
      ]
     },
     "execution_count": 5,
     "metadata": {},
     "output_type": "execute_result"
    }
   ],
   "source": [
    "dataset.head()"
   ]
  },
  {
   "cell_type": "code",
   "execution_count": 6,
   "id": "7500192d",
   "metadata": {},
   "outputs": [],
   "source": [
    "dataset.drop('User ID' , axis=1 , inplace=True)"
   ]
  },
  {
   "cell_type": "code",
   "execution_count": 7,
   "id": "bae128d4",
   "metadata": {},
   "outputs": [],
   "source": [
    "X = dataset.drop('Purchased' , axis = 1)\n",
    "y = dataset.Purchased"
   ]
  },
  {
   "cell_type": "code",
   "execution_count": 8,
   "id": "33e9c865",
   "metadata": {},
   "outputs": [
    {
     "data": {
      "text/html": [
       "<div>\n",
       "<style scoped>\n",
       "    .dataframe tbody tr th:only-of-type {\n",
       "        vertical-align: middle;\n",
       "    }\n",
       "\n",
       "    .dataframe tbody tr th {\n",
       "        vertical-align: top;\n",
       "    }\n",
       "\n",
       "    .dataframe thead th {\n",
       "        text-align: right;\n",
       "    }\n",
       "</style>\n",
       "<table border=\"1\" class=\"dataframe\">\n",
       "  <thead>\n",
       "    <tr style=\"text-align: right;\">\n",
       "      <th></th>\n",
       "      <th>Age</th>\n",
       "      <th>EstimatedSalary</th>\n",
       "      <th>Gender_Female</th>\n",
       "      <th>Gender_Male</th>\n",
       "    </tr>\n",
       "  </thead>\n",
       "  <tbody>\n",
       "    <tr>\n",
       "      <th>0</th>\n",
       "      <td>19.0</td>\n",
       "      <td>19000.0</td>\n",
       "      <td>0</td>\n",
       "      <td>1</td>\n",
       "    </tr>\n",
       "    <tr>\n",
       "      <th>1</th>\n",
       "      <td>35.0</td>\n",
       "      <td>20000.0</td>\n",
       "      <td>0</td>\n",
       "      <td>1</td>\n",
       "    </tr>\n",
       "    <tr>\n",
       "      <th>2</th>\n",
       "      <td>26.0</td>\n",
       "      <td>43000.0</td>\n",
       "      <td>1</td>\n",
       "      <td>0</td>\n",
       "    </tr>\n",
       "    <tr>\n",
       "      <th>3</th>\n",
       "      <td>27.0</td>\n",
       "      <td>57000.0</td>\n",
       "      <td>1</td>\n",
       "      <td>0</td>\n",
       "    </tr>\n",
       "    <tr>\n",
       "      <th>4</th>\n",
       "      <td>19.0</td>\n",
       "      <td>76000.0</td>\n",
       "      <td>0</td>\n",
       "      <td>1</td>\n",
       "    </tr>\n",
       "    <tr>\n",
       "      <th>...</th>\n",
       "      <td>...</td>\n",
       "      <td>...</td>\n",
       "      <td>...</td>\n",
       "      <td>...</td>\n",
       "    </tr>\n",
       "    <tr>\n",
       "      <th>395</th>\n",
       "      <td>46.0</td>\n",
       "      <td>41000.0</td>\n",
       "      <td>1</td>\n",
       "      <td>0</td>\n",
       "    </tr>\n",
       "    <tr>\n",
       "      <th>396</th>\n",
       "      <td>51.0</td>\n",
       "      <td>23000.0</td>\n",
       "      <td>0</td>\n",
       "      <td>1</td>\n",
       "    </tr>\n",
       "    <tr>\n",
       "      <th>397</th>\n",
       "      <td>50.0</td>\n",
       "      <td>20000.0</td>\n",
       "      <td>1</td>\n",
       "      <td>0</td>\n",
       "    </tr>\n",
       "    <tr>\n",
       "      <th>398</th>\n",
       "      <td>36.0</td>\n",
       "      <td>33000.0</td>\n",
       "      <td>0</td>\n",
       "      <td>1</td>\n",
       "    </tr>\n",
       "    <tr>\n",
       "      <th>399</th>\n",
       "      <td>49.0</td>\n",
       "      <td>36000.0</td>\n",
       "      <td>1</td>\n",
       "      <td>0</td>\n",
       "    </tr>\n",
       "  </tbody>\n",
       "</table>\n",
       "<p>400 rows × 4 columns</p>\n",
       "</div>"
      ],
      "text/plain": [
       "      Age  EstimatedSalary  Gender_Female  Gender_Male\n",
       "0    19.0          19000.0              0            1\n",
       "1    35.0          20000.0              0            1\n",
       "2    26.0          43000.0              1            0\n",
       "3    27.0          57000.0              1            0\n",
       "4    19.0          76000.0              0            1\n",
       "..    ...              ...            ...          ...\n",
       "395  46.0          41000.0              1            0\n",
       "396  51.0          23000.0              0            1\n",
       "397  50.0          20000.0              1            0\n",
       "398  36.0          33000.0              0            1\n",
       "399  49.0          36000.0              1            0\n",
       "\n",
       "[400 rows x 4 columns]"
      ]
     },
     "execution_count": 8,
     "metadata": {},
     "output_type": "execute_result"
    }
   ],
   "source": [
    "X"
   ]
  },
  {
   "cell_type": "code",
   "execution_count": 9,
   "id": "97f31d73",
   "metadata": {},
   "outputs": [
    {
     "data": {
      "text/plain": [
       "0      0\n",
       "1      0\n",
       "2      0\n",
       "3      0\n",
       "4      0\n",
       "      ..\n",
       "395    1\n",
       "396    1\n",
       "397    1\n",
       "398    0\n",
       "399    1\n",
       "Name: Purchased, Length: 400, dtype: int64"
      ]
     },
     "execution_count": 9,
     "metadata": {},
     "output_type": "execute_result"
    }
   ],
   "source": [
    "y"
   ]
  },
  {
   "cell_type": "code",
   "execution_count": 22,
   "id": "fd6100d7",
   "metadata": {},
   "outputs": [],
   "source": [
    "from sklearn.model_selection import GridSearchCV\n",
    "from sklearn.model_selection import train_test_split\n",
    "from sklearn.linear_model import LogisticRegression\n",
    "from sklearn.svm import SVC\n",
    "from sklearn.tree import DecisionTreeClassifier\n",
    "from sklearn.preprocessing import StandardScaler"
   ]
  },
  {
   "cell_type": "code",
   "execution_count": 17,
   "id": "03ddd67b",
   "metadata": {},
   "outputs": [],
   "source": [
    "X_train, X_test, y_train, y_test = train_test_split(X, y, test_size = 0.25, random_state = 5)"
   ]
  },
  {
   "cell_type": "code",
   "execution_count": 18,
   "id": "0351f5c0",
   "metadata": {},
   "outputs": [
    {
     "data": {
      "text/plain": [
       "(300, 4)"
      ]
     },
     "execution_count": 18,
     "metadata": {},
     "output_type": "execute_result"
    }
   ],
   "source": [
    "X_train.shape"
   ]
  },
  {
   "cell_type": "code",
   "execution_count": 19,
   "id": "00fbf5ce",
   "metadata": {},
   "outputs": [
    {
     "data": {
      "text/plain": [
       "(100,)"
      ]
     },
     "execution_count": 19,
     "metadata": {},
     "output_type": "execute_result"
    }
   ],
   "source": [
    "y_test.shape"
   ]
  },
  {
   "cell_type": "code",
   "execution_count": 20,
   "id": "b372f68b",
   "metadata": {},
   "outputs": [
    {
     "data": {
      "text/plain": [
       "(300,)"
      ]
     },
     "execution_count": 20,
     "metadata": {},
     "output_type": "execute_result"
    }
   ],
   "source": [
    "y_train.shape"
   ]
  },
  {
   "cell_type": "code",
   "execution_count": 21,
   "id": "5d35f49b",
   "metadata": {},
   "outputs": [
    {
     "data": {
      "text/plain": [
       "(100, 4)"
      ]
     },
     "execution_count": 21,
     "metadata": {},
     "output_type": "execute_result"
    }
   ],
   "source": [
    "X_test.shape"
   ]
  },
  {
   "cell_type": "code",
   "execution_count": 25,
   "id": "e75bea58",
   "metadata": {},
   "outputs": [],
   "source": [
    "# Feature Scaling\n",
    "sc = StandardScaler()\n",
    "X_train = sc.fit_transform(X_train)\n",
    "X_test = sc.fit_transform(X_test)"
   ]
  },
  {
   "cell_type": "code",
   "execution_count": 26,
   "id": "ce91a6db",
   "metadata": {},
   "outputs": [
    {
     "data": {
      "text/plain": [
       "array([[ 0.87960747,  0.69869621,  1.02020406, -1.02020406],\n",
       "       [-1.6768405 , -1.29513724,  1.02020406, -1.02020406],\n",
       "       [-0.06722511, -0.55457053, -0.98019606,  0.98019606],\n",
       "       [-1.20342421, -1.12423723,  1.02020406, -1.02020406],\n",
       "       [ 0.21682466,  0.15751284, -0.98019606,  0.98019606],\n",
       "       [ 0.02745814, -0.0418705 , -0.98019606,  0.98019606],\n",
       "       [-0.25659163, -0.81092055, -0.98019606,  0.98019606],\n",
       "       [ 0.50087444,  0.10054617,  1.02020406, -1.02020406],\n",
       "       [-0.16190837, -0.5260872 , -0.98019606,  0.98019606],\n",
       "       [ 0.50087444,  0.21447951,  1.02020406, -1.02020406],\n",
       "       [-0.06722511,  1.52471293, -0.98019606,  0.98019606],\n",
       "       [-1.10874095,  0.5277962 , -0.98019606,  0.98019606],\n",
       "       [-0.73000792,  0.32841285,  1.02020406, -1.02020406],\n",
       "       [-0.5406414 , -0.15580384, -0.98019606,  0.98019606],\n",
       "       [-0.16190837, -0.69698721,  1.02020406, -1.02020406],\n",
       "       [-1.6768405 , -1.32362058, -0.98019606,  0.98019606],\n",
       "       [-0.16190837,  2.1513463 ,  1.02020406, -1.02020406],\n",
       "       [ 0.31150792, -0.18428718, -0.98019606,  0.98019606],\n",
       "       [-1.01405769,  0.27144618, -0.98019606,  0.98019606],\n",
       "       [ 0.02745814,  0.10054617, -0.98019606,  0.98019606],\n",
       "       [ 1.06897398,  1.35381292,  1.02020406, -1.02020406],\n",
       "       [ 0.21682466,  0.0435795 ,  1.02020406, -1.02020406],\n",
       "       [ 2.20517308, -0.83940388, -0.98019606,  0.98019606],\n",
       "       [ 0.40619118,  0.01509617,  1.02020406, -1.02020406],\n",
       "       [ 0.78492421, -0.75395388,  1.02020406, -1.02020406],\n",
       "       [-0.63532466, -1.60845393, -0.98019606,  0.98019606],\n",
       "       [ 0.31150792, -0.41215386, -0.98019606,  0.98019606],\n",
       "       [ 2.01580657, -0.95333722,  1.02020406, -1.02020406],\n",
       "       [ 1.2583405 , -1.01030389,  1.02020406, -1.02020406],\n",
       "       [-1.20342421, -1.49452059, -0.98019606,  0.98019606],\n",
       "       [ 1.06897398,  1.78106294,  1.02020406, -1.02020406],\n",
       "       [-1.01405769, -1.60845393,  1.02020406, -1.02020406],\n",
       "       [ 1.16365724,  0.07206284, -0.98019606,  0.98019606],\n",
       "       [-1.29810747, -0.15580384,  1.02020406, -1.02020406],\n",
       "       [ 0.40619118,  0.01509617,  1.02020406, -1.02020406],\n",
       "       [-0.25659163,  1.15442957, -0.98019606,  0.98019606],\n",
       "       [ 0.50087444, -0.21277051, -0.98019606,  0.98019606],\n",
       "       [-0.16190837,  0.21447951, -0.98019606,  0.98019606],\n",
       "       [ 0.40619118,  0.01509617, -0.98019606,  0.98019606],\n",
       "       [-0.5406414 ,  0.49931286,  1.02020406, -1.02020406],\n",
       "       [ 0.02745814,  1.86651295,  1.02020406, -1.02020406],\n",
       "       [-0.91937444, -0.49760386,  1.02020406, -1.02020406],\n",
       "       [ 0.02745814,  2.12286296,  1.02020406, -1.02020406],\n",
       "       [ 0.31150792, -0.41215386, -0.98019606,  0.98019606],\n",
       "       [-1.39279073,  0.27144618, -0.98019606,  0.98019606],\n",
       "       [ 1.2583405 ,  0.47082953,  1.02020406, -1.02020406],\n",
       "       [-1.20342421, -1.26665391,  1.02020406, -1.02020406],\n",
       "       [-1.77152376, -0.09883717,  1.02020406, -1.02020406],\n",
       "       [ 1.16365724,  1.98044629,  1.02020406, -1.02020406],\n",
       "       [ 0.97429073,  1.1829129 ,  1.02020406, -1.02020406],\n",
       "       [ 0.97429073, -0.64002054,  1.02020406, -1.02020406],\n",
       "       [-0.16190837, -1.38058725,  1.02020406, -1.02020406],\n",
       "       [-0.5406414 , -1.60845393,  1.02020406, -1.02020406],\n",
       "       [-1.48747399,  0.47082953, -0.98019606,  0.98019606],\n",
       "       [ 0.31150792,  0.10054617,  1.02020406, -1.02020406],\n",
       "       [-0.82469118, -0.98182056,  1.02020406, -1.02020406],\n",
       "       [ 0.02745814,  2.06589629, -0.98019606,  0.98019606],\n",
       "       [ 0.97429073,  1.01201289,  1.02020406, -1.02020406],\n",
       "       [ 1.44770702, -1.43755392,  1.02020406, -1.02020406],\n",
       "       [ 0.21682466,  0.69869621, -0.98019606,  0.98019606],\n",
       "       [-0.16190837, -0.46912053, -0.98019606,  0.98019606],\n",
       "       [ 1.35302376,  1.78106294,  1.02020406, -1.02020406],\n",
       "       [-1.6768405 , -1.49452059, -0.98019606,  0.98019606],\n",
       "       [-0.91937444, -1.46603726, -0.98019606,  0.98019606],\n",
       "       [ 0.1221414 , -0.58305387, -0.98019606,  0.98019606],\n",
       "       [ 1.73175679, -0.92485389, -0.98019606,  0.98019606],\n",
       "       [-0.82469118, -0.35518719, -0.98019606,  0.98019606],\n",
       "       [-0.63532466,  0.44234619, -0.98019606,  0.98019606],\n",
       "       [ 2.20517308, -0.72547054,  1.02020406, -1.02020406],\n",
       "       [ 0.87960747,  1.29684624, -0.98019606,  0.98019606],\n",
       "       [ 0.78492421,  0.21447951, -0.98019606,  0.98019606],\n",
       "       [ 0.78492421,  1.69561294,  1.02020406, -1.02020406],\n",
       "       [-1.20342421, -0.46912053,  1.02020406, -1.02020406],\n",
       "       [ 1.2583405 , -1.46603726,  1.02020406, -1.02020406],\n",
       "       [ 0.78492421, -1.12423723, -0.98019606,  0.98019606],\n",
       "       [-0.35127489, -0.32670385,  1.02020406, -1.02020406],\n",
       "       [-1.6768405 ,  0.38537952, -0.98019606,  0.98019606],\n",
       "       [-0.91937444,  0.49931286, -0.98019606,  0.98019606],\n",
       "       [ 0.1221414 , -0.35518719, -0.98019606,  0.98019606],\n",
       "       [-0.63532466,  1.80954628, -0.98019606,  0.98019606],\n",
       "       [-0.16190837,  0.72717954,  1.02020406, -1.02020406],\n",
       "       [-0.16190837,  1.04049623, -0.98019606,  0.98019606],\n",
       "       [ 0.59555769,  1.15442957,  1.02020406, -1.02020406],\n",
       "       [-1.01405769, -1.12423723, -0.98019606,  0.98019606],\n",
       "       [-1.29810747, -0.66850387,  1.02020406, -1.02020406],\n",
       "       [ 2.20517308, -0.83940388, -0.98019606,  0.98019606],\n",
       "       [-1.58215724,  0.07206284, -0.98019606,  0.98019606],\n",
       "       [-0.06722511, -0.32670385, -0.98019606,  0.98019606],\n",
       "       [-0.16190837,  0.01509617,  1.02020406, -1.02020406],\n",
       "       [-1.58215724,  0.41386286, -0.98019606,  0.98019606],\n",
       "       [-0.06722511, -0.49760386,  1.02020406, -1.02020406],\n",
       "       [ 1.73175679,  1.52471293,  1.02020406, -1.02020406],\n",
       "       [ 0.02745814,  0.24296285,  1.02020406, -1.02020406],\n",
       "       [ 0.02745814, -0.41215386,  1.02020406, -1.02020406],\n",
       "       [-1.77152376, -0.55457053, -0.98019606,  0.98019606],\n",
       "       [ 0.1221414 , -0.01338717, -0.98019606,  0.98019606],\n",
       "       [-0.16190837, -0.6115372 , -0.98019606,  0.98019606],\n",
       "       [-0.44595815,  1.29684624,  1.02020406, -1.02020406],\n",
       "       [ 2.11048982,  2.03741296, -0.98019606,  0.98019606],\n",
       "       [ 0.87960747, -1.23817057, -0.98019606,  0.98019606]])"
      ]
     },
     "execution_count": 26,
     "metadata": {},
     "output_type": "execute_result"
    }
   ],
   "source": [
    "X_test"
   ]
  },
  {
   "cell_type": "code",
   "execution_count": 27,
   "id": "d16bf72d",
   "metadata": {},
   "outputs": [
    {
     "data": {
      "text/plain": [
       "array([[ 0.77063564, -1.37090753, -1.03390789,  1.03390789],\n",
       "       [-0.95681661, -0.74731782,  0.96720415, -0.96720415],\n",
       "       [ 1.25048349, -1.37090753, -1.03390789,  1.03390789],\n",
       "       ...,\n",
       "       [-0.95681661, -1.1036548 , -1.03390789,  1.03390789],\n",
       "       [ 1.63436177,  1.8064305 ,  0.96720415, -0.96720415],\n",
       "       [ 2.11420962, -1.0442653 , -1.03390789,  1.03390789]])"
      ]
     },
     "execution_count": 27,
     "metadata": {},
     "output_type": "execute_result"
    }
   ],
   "source": [
    "X_train"
   ]
  },
  {
   "cell_type": "code",
   "execution_count": 28,
   "id": "d981c989",
   "metadata": {},
   "outputs": [
    {
     "data": {
      "text/plain": [
       "SVC(random_state=0)"
      ]
     },
     "execution_count": 28,
     "metadata": {},
     "output_type": "execute_result"
    }
   ],
   "source": [
    "# Fitting SVM to the Training set\n",
    "svm = SVC(kernel = 'rbf', random_state = 0)\n",
    "svm.fit(X_train, y_train)"
   ]
  },
  {
   "cell_type": "code",
   "execution_count": 53,
   "id": "f7d3d647",
   "metadata": {},
   "outputs": [
    {
     "data": {
      "text/plain": [
       "array([ 10,  16,  27,  37,  38,  47,  53,  60,  73,  74,  79,  91,  95,\n",
       "        97,  98, 122, 124, 128, 134, 136, 137, 154, 155, 158, 163, 165,\n",
       "       167, 168, 179, 180, 187, 196, 198, 206, 209, 216, 217, 220, 222,\n",
       "       226, 227, 238, 242, 245, 255, 266, 267, 275, 281, 282, 293, 295,\n",
       "         0,   3,  13,  23,  25,  32,  33,  49,  61,  65,  68,  71,  77,\n",
       "        83, 103, 113, 117, 119, 125, 129, 133, 139, 141, 146, 151, 152,\n",
       "       156, 169, 177, 181, 188, 195, 201, 214, 215, 219, 221, 223, 228,\n",
       "       229, 230, 234, 236, 240, 243, 247, 250, 271, 273, 274, 276, 284])"
      ]
     },
     "execution_count": 53,
     "metadata": {},
     "output_type": "execute_result"
    }
   ],
   "source": [
    "svm.support_"
   ]
  },
  {
   "cell_type": "code",
   "execution_count": null,
   "id": "23e383b3",
   "metadata": {},
   "outputs": [],
   "source": []
  },
  {
   "cell_type": "code",
   "execution_count": 29,
   "id": "a3ed11a9",
   "metadata": {},
   "outputs": [],
   "source": [
    "y_pred = svm.predict(X_test)"
   ]
  },
  {
   "cell_type": "code",
   "execution_count": 30,
   "id": "64ccca52",
   "metadata": {},
   "outputs": [],
   "source": [
    "# Making the Confusion Matrix\n",
    "from sklearn.metrics import confusion_matrix\n",
    "cm = confusion_matrix(y_test, y_pred)"
   ]
  },
  {
   "cell_type": "code",
   "execution_count": 37,
   "id": "c84bb685",
   "metadata": {},
   "outputs": [
    {
     "data": {
      "text/plain": [
       "array([[61,  5],\n",
       "       [ 2, 32]], dtype=int64)"
      ]
     },
     "execution_count": 37,
     "metadata": {},
     "output_type": "execute_result"
    }
   ],
   "source": [
    "cm"
   ]
  },
  {
   "cell_type": "code",
   "execution_count": 35,
   "id": "6b143193",
   "metadata": {},
   "outputs": [
    {
     "data": {
      "text/plain": [
       "array([1, 0, 0, 0, 0, 0, 0, 0, 0, 0, 1, 0, 0, 0, 0, 0, 1, 0, 0, 0, 1, 0,\n",
       "       1, 0, 1, 0, 0, 1, 1, 0, 1, 0, 1, 0, 0, 1, 0, 0, 0, 0, 1, 0, 1, 0,\n",
       "       0, 1, 0, 0, 1, 1, 1, 0, 0, 0, 0, 0, 1, 1, 1, 1, 0, 1, 0, 0, 0, 1,\n",
       "       0, 0, 1, 1, 1, 1, 0, 1, 1, 0, 0, 0, 0, 1, 0, 1, 1, 0, 0, 1, 0, 0,\n",
       "       0, 0, 0, 1, 0, 0, 0, 0, 0, 1, 1, 1], dtype=int64)"
      ]
     },
     "execution_count": 35,
     "metadata": {},
     "output_type": "execute_result"
    }
   ],
   "source": [
    "y_pred"
   ]
  },
  {
   "cell_type": "code",
   "execution_count": 36,
   "id": "8d868ae1",
   "metadata": {},
   "outputs": [
    {
     "data": {
      "text/plain": [
       "218    0\n",
       "191    0\n",
       "117    0\n",
       "50     0\n",
       "348    0\n",
       "      ..\n",
       "368    0\n",
       "89     0\n",
       "182    1\n",
       "219    1\n",
       "18     1\n",
       "Name: Purchased, Length: 100, dtype: int64"
      ]
     },
     "execution_count": 36,
     "metadata": {},
     "output_type": "execute_result"
    }
   ],
   "source": [
    "y_test"
   ]
  },
  {
   "cell_type": "code",
   "execution_count": 39,
   "id": "7faf5b2e",
   "metadata": {},
   "outputs": [
    {
     "data": {
      "text/plain": [
       "0.93"
      ]
     },
     "execution_count": 39,
     "metadata": {},
     "output_type": "execute_result"
    }
   ],
   "source": [
    "from sklearn.metrics import accuracy_score\n",
    "acc = accuracy_score(y_test,y_pred)\n",
    "acc"
   ]
  },
  {
   "cell_type": "code",
   "execution_count": null,
   "id": "ce76b688",
   "metadata": {},
   "outputs": [],
   "source": []
  },
  {
   "cell_type": "code",
   "execution_count": 45,
   "id": "d50f07b0",
   "metadata": {},
   "outputs": [
    {
     "name": "stderr",
     "output_type": "stream",
     "text": [
      "C:\\Users\\96654\\anaconda3\\lib\\site-packages\\sklearn\\model_selection\\_validation.py:372: FitFailedWarning: \n",
      "70 fits failed out of a total of 700.\n",
      "The score on these train-test partitions for these parameters will be set to nan.\n",
      "If these failures are not expected, you can try to debug them by setting error_score='raise'.\n",
      "\n",
      "Below are more details about the failures:\n",
      "--------------------------------------------------------------------------------\n",
      "70 fits failed with the following error:\n",
      "Traceback (most recent call last):\n",
      "  File \"C:\\Users\\96654\\anaconda3\\lib\\site-packages\\sklearn\\model_selection\\_validation.py\", line 680, in _fit_and_score\n",
      "    estimator.fit(X_train, y_train, **fit_params)\n",
      "  File \"C:\\Users\\96654\\anaconda3\\lib\\site-packages\\sklearn\\svm\\_base.py\", line 255, in fit\n",
      "    fit(X, y, sample_weight, solver_type, kernel, random_seed=seed)\n",
      "  File \"C:\\Users\\96654\\anaconda3\\lib\\site-packages\\sklearn\\svm\\_base.py\", line 315, in _dense_fit\n",
      "    ) = libsvm.fit(\n",
      "  File \"sklearn\\svm\\_libsvm.pyx\", line 173, in sklearn.svm._libsvm.fit\n",
      "ValueError: 'Linear' is not in list\n",
      "\n",
      "  warnings.warn(some_fits_failed_message, FitFailedWarning)\n",
      "C:\\Users\\96654\\anaconda3\\lib\\site-packages\\sklearn\\model_selection\\_search.py:969: UserWarning: One or more of the test scores are non-finite: [       nan        nan        nan        nan        nan        nan\n",
      "        nan        nan        nan        nan        nan        nan\n",
      "        nan        nan 0.88       0.89333333 0.89666667 0.89666667\n",
      " 0.9        0.90666667 0.90333333 0.90333333 0.90333333 0.89333333\n",
      " 0.89333333 0.89666667 0.9        0.9        0.9        0.90666667\n",
      " 0.91333333 0.91       0.89333333 0.89666667 0.9        0.9\n",
      " 0.89666667 0.89333333 0.89666667 0.89333333 0.89666667 0.89666667\n",
      " 0.89666667 0.89666667 0.9        0.89333333 0.89666667 0.89666667\n",
      " 0.89333333 0.89333333 0.89666667 0.9        0.89666667 0.89333333\n",
      " 0.89       0.89666667 0.89333333 0.89333333 0.89333333 0.89666667\n",
      " 0.89666667 0.89666667 0.89333333 0.88666667 0.89333333 0.89333333\n",
      " 0.89333333 0.89666667 0.89666667 0.89666667 0.9        0.89666667\n",
      " 0.89       0.89333333 0.89333333 0.89333333 0.89666667 0.89666667\n",
      " 0.9        0.9        0.89666667 0.89333333 0.89333333 0.89333333\n",
      " 0.89333333 0.89666667 0.9        0.9        0.89333333 0.89666667\n",
      " 0.89333333 0.89333333 0.89       0.89333333 0.89333333 0.89666667\n",
      " 0.89666667 0.89333333 0.89666667 0.89333333 0.89       0.88666667\n",
      " 0.89333333 0.89333333 0.89666667 0.89333333 0.89       0.89\n",
      " 0.89       0.88666667 0.89       0.89       0.88333333 0.89333333\n",
      " 0.89333333 0.89333333 0.89333333 0.89       0.88666667 0.89\n",
      " 0.88333333 0.87666667 0.89       0.89       0.89       0.89333333\n",
      " 0.89       0.88666667 0.89       0.88333333 0.87666667 0.89\n",
      " 0.89       0.89       0.89333333 0.89       0.88666667 0.88666667\n",
      " 0.88333333 0.87666667]\n",
      "  warnings.warn(\n"
     ]
    }
   ],
   "source": [
    "# Applying Grid Search to find the best model and the best parameters\n",
    "parameters = [{'C':[1,3,5,6,7,8,9,10,15,20,25,30,33,35] , 'kernel' : ['Linear' ]} , \n",
    "             {'C':[1,3,5,6,7,8,9,10,15,20,25,30,33,35] , 'kernel' : ['rbf'] ,\n",
    "              'gamma': [0.1, 0.2, 0.3, 0.4, 0.5, 0.6, 0.7, 0.8, 0.9]}] \n",
    "grid_search  = GridSearchCV(estimator=svm , param_grid=parameters)\n",
    "grid_search = grid_search.fit(X_train ,y_train)"
   ]
  },
  {
   "cell_type": "code",
   "execution_count": 46,
   "id": "bc7be24b",
   "metadata": {},
   "outputs": [
    {
     "data": {
      "text/plain": [
       "{'C': 3, 'gamma': 0.8, 'kernel': 'rbf'}"
      ]
     },
     "execution_count": 46,
     "metadata": {},
     "output_type": "execute_result"
    }
   ],
   "source": [
    "grid_search.best_params_"
   ]
  },
  {
   "cell_type": "code",
   "execution_count": 47,
   "id": "10368bab",
   "metadata": {},
   "outputs": [
    {
     "data": {
      "text/plain": [
       "0.9133333333333333"
      ]
     },
     "execution_count": 47,
     "metadata": {},
     "output_type": "execute_result"
    }
   ],
   "source": [
    "grid_search.best_score_"
   ]
  },
  {
   "cell_type": "code",
   "execution_count": 57,
   "id": "4d9210f2",
   "metadata": {},
   "outputs": [
    {
     "data": {
      "text/plain": [
       "SVC(C=3, gamma=0.8)"
      ]
     },
     "execution_count": 57,
     "metadata": {},
     "output_type": "execute_result"
    }
   ],
   "source": [
    "classifier = SVC(C= 3, gamma= 0.8, kernel= 'rbf')\n",
    "classifier.fit(X_train, y_train)"
   ]
  },
  {
   "cell_type": "code",
   "execution_count": 58,
   "id": "956e90ed",
   "metadata": {},
   "outputs": [],
   "source": [
    "y_predict = classifier.predict(X_test)"
   ]
  },
  {
   "cell_type": "code",
   "execution_count": 59,
   "id": "38706c06",
   "metadata": {},
   "outputs": [],
   "source": [
    "# Making the Confusion Matrix\n",
    "confusion_matrix = confusion_matrix(y_test, y_predict)"
   ]
  },
  {
   "cell_type": "code",
   "execution_count": 60,
   "id": "dd6be853",
   "metadata": {},
   "outputs": [
    {
     "data": {
      "text/plain": [
       "array([[61,  5],\n",
       "       [ 3, 31]], dtype=int64)"
      ]
     },
     "execution_count": 60,
     "metadata": {},
     "output_type": "execute_result"
    }
   ],
   "source": [
    "confusion_matrix"
   ]
  },
  {
   "cell_type": "code",
   "execution_count": 61,
   "id": "3652ea58",
   "metadata": {},
   "outputs": [
    {
     "data": {
      "text/plain": [
       "0.92"
      ]
     },
     "execution_count": 61,
     "metadata": {},
     "output_type": "execute_result"
    }
   ],
   "source": [
    "accuracy_score(y_predict , y_test)"
   ]
  }
 ],
 "metadata": {
  "kernelspec": {
   "display_name": "Python 3",
   "language": "python",
   "name": "python3"
  },
  "language_info": {
   "codemirror_mode": {
    "name": "ipython",
    "version": 3
   },
   "file_extension": ".py",
   "mimetype": "text/x-python",
   "name": "python",
   "nbconvert_exporter": "python",
   "pygments_lexer": "ipython3",
   "version": "3.8.8"
  }
 },
 "nbformat": 4,
 "nbformat_minor": 5
}
